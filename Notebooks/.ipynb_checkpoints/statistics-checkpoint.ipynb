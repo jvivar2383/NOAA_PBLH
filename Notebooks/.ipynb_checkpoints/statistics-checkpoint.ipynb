{
 "cells": [
  {
   "cell_type": "code",
   "execution_count": 2,
   "id": "aa22d4f9-c214-453a-897d-d1b170abf77a",
   "metadata": {},
   "outputs": [],
   "source": [
    "import netCDF4 as nc\n",
    "import numpy as np\n",
    "import pandas as pd\n",
    "import matplotlib.pyplot as plt\n",
    "import seaborn as sns\n",
    "import os\n",
    "import xarray as xr\n",
    "from source2 import *\n",
    "from sklearn.metrics import mean_squared_error"
   ]
  },
  {
   "cell_type": "code",
   "execution_count": 16,
   "id": "c39fbf27-e360-453b-a531-7938731d7323",
   "metadata": {},
   "outputs": [
    {
     "ename": "TypeError",
     "evalue": "pbl_height() got an unexpected keyword argument 'avetime'",
     "output_type": "error",
     "traceback": [
      "\u001b[0;31m---------------------------------------------------------------------------\u001b[0m",
      "\u001b[0;31mTypeError\u001b[0m                                 Traceback (most recent call last)",
      "Input \u001b[0;32mIn [16]\u001b[0m, in \u001b[0;36m<cell line: 12>\u001b[0;34m()\u001b[0m\n\u001b[1;32m      9\u001b[0m july17_cnr \u001b[38;5;241m=\u001b[39m dataframe_set(cnr_17, time_17, date)\n\u001b[1;32m     11\u001b[0m \u001b[38;5;66;03m# pbl_height\u001b[39;00m\n\u001b[0;32m---> 12\u001b[0m july17_cnrmean \u001b[38;5;241m=\u001b[39m \u001b[43mpbl_height\u001b[49m\u001b[43m(\u001b[49m\u001b[43mjuly17_cnr\u001b[49m\u001b[43m,\u001b[49m\u001b[43m \u001b[49m\u001b[43mstat\u001b[49m\u001b[43m \u001b[49m\u001b[38;5;241;43m=\u001b[39;49m\u001b[43m \u001b[49m\u001b[38;5;124;43m\"\u001b[39;49m\u001b[38;5;124;43mmean\u001b[39;49m\u001b[38;5;124;43m\"\u001b[39;49m\u001b[43m,\u001b[49m\u001b[43m \u001b[49m\u001b[43mvar_type\u001b[49m\u001b[43m \u001b[49m\u001b[38;5;241;43m=\u001b[39;49m\u001b[43m \u001b[49m\u001b[38;5;124;43m\"\u001b[39;49m\u001b[38;5;124;43mCNR\u001b[39;49m\u001b[38;5;124;43m\"\u001b[39;49m\u001b[43m,\u001b[49m\u001b[43m \u001b[49m\u001b[43mavetime\u001b[49m\u001b[43m \u001b[49m\u001b[38;5;241;43m=\u001b[39;49m\u001b[43m \u001b[49m\u001b[38;5;124;43m\"\u001b[39;49m\u001b[38;5;124;43m30T\u001b[39;49m\u001b[38;5;124;43m\"\u001b[39;49m\u001b[43m)\u001b[49m\n\u001b[1;32m     13\u001b[0m july17_cnrstd \u001b[38;5;241m=\u001b[39m pbl_height(july17_cnr, var_type \u001b[38;5;241m=\u001b[39m \u001b[38;5;124m\"\u001b[39m\u001b[38;5;124mCNR\u001b[39m\u001b[38;5;124m\"\u001b[39m, avetime \u001b[38;5;241m=\u001b[39m \u001b[38;5;124m\"\u001b[39m\u001b[38;5;124m30T\u001b[39m\u001b[38;5;124m\"\u001b[39m)\n\u001b[1;32m     14\u001b[0m july17_cnrmedian \u001b[38;5;241m=\u001b[39m pbl_height(july17_cnr, stat \u001b[38;5;241m=\u001b[39m \u001b[38;5;124m\"\u001b[39m\u001b[38;5;124mmedian\u001b[39m\u001b[38;5;124m\"\u001b[39m, var_type \u001b[38;5;241m=\u001b[39m \u001b[38;5;124m\"\u001b[39m\u001b[38;5;124mCNR\u001b[39m\u001b[38;5;124m\"\u001b[39m, avetime \u001b[38;5;241m=\u001b[39m \u001b[38;5;124m\"\u001b[39m\u001b[38;5;124m30T\u001b[39m\u001b[38;5;124m\"\u001b[39m)\n",
      "\u001b[0;31mTypeError\u001b[0m: pbl_height() got an unexpected keyword argument 'avetime'"
     ]
    }
   ],
   "source": [
    "path0 = \"/Users/jenifervivar/Desktop/NERTO_2022/LIDAR_JUN17-30_2021/FXD20210717/\"\n",
    "variables = VAREXTRACT(path0)\n",
    "variables.extract()\n",
    "cnr_17 = variables.cnr_day\n",
    "time_17 = pd.to_datetime(variables.time_day, unit = 's', utc = True)\n",
    "\n",
    "date = \"2021-07-17\"\n",
    "\n",
    "july17_cnr = dataframe_set(cnr_17, time_17, date)\n",
    "\n",
    "# pbl_height\n",
    "july17_cnrmean = pbl_height(july17_cnr, stat = \"mean\", var_type = \"CNR\", avetime = \"30T\")\n",
    "july17_cnrstd = pbl_height(july17_cnr, var_type = \"CNR\", avetime = \"30T\")\n",
    "july17_cnrmedian = pbl_height(july17_cnr, stat = \"median\", var_type = \"CNR\", avetime = \"30T\")\n",
    "\n",
    "\n",
    "#Getting liDAR derived values for PBL\n",
    "\n",
    "pbl_17 = variables.atm_structures\n",
    "df_structures_17 = dataframe_set(pbl_17, time_17, date)\n",
    "lidar_pbl17 = pbl_lidar(df_structures_17)\n",
    "\n",
    "#lidar_pbl17 = lidar_pbl17[lidar_pbl17.index.date ==pd.Timestamp(\"2021-07-17\").date()]\n",
    "\n",
    "windsp_17 = variables.ver_wind_speed\n",
    "df_wind = dataframe_set(windsp_17, time_17, date)\n",
    "\n",
    "wind_var = pbl_height(df_wind,  var_type = \"wind\", avetime = \"30T\")"
   ]
  },
  {
   "cell_type": "code",
   "execution_count": 4,
   "id": "f1653be1-6102-44a5-8798-3241c4a31756",
   "metadata": {},
   "outputs": [
    {
     "name": "stderr",
     "output_type": "stream",
     "text": [
      "/var/folders/sk/km6c1g654036cmvl40zycd0m0000gn/T/ipykernel_1067/2963774765.py:1: VisibleDeprecationWarning: Creating an ndarray from ragged nested sequences (which is a list-or-tuple of lists-or-tuples-or ndarrays with different lengths or shapes) is deprecated. If you meant to do this, you must specify 'dtype=object' when creating the ndarray.\n",
      "  all_predictions = np.array([july17_cnrmean, july17_cnrstd, july17_cnrmedian, lidar_pbl17, wind_var])\n"
     ]
    }
   ],
   "source": [
    "all_predictions = np.array([july17_cnrmean, july17_cnrstd, july17_cnrmedian, lidar_pbl17, wind_var])"
   ]
  },
  {
   "cell_type": "code",
   "execution_count": 11,
   "id": "a4c553c2-cdc0-471f-865e-9cc74e46f3e9",
   "metadata": {},
   "outputs": [
    {
     "name": "stdout",
     "output_type": "stream",
     "text": [
      "[0.0, 0.0008290016538438057, 7.662212775993352e-05, 0.9189736304215987, 0.0007005516136678642, 0.0008290016538438057, 0.0, 0.0008838614394821382, 0.9192003476599545, 0.0004623591983145734, 7.662212775993352e-05, 0.0008838614394821382, 0.0, 0.9189604166666666, 0.0006666351119589932, 0.9189736304215987, 0.9192003476599545, 0.9189604166666666, 0.0, 0.9191838170116006, 0.0007005516136678642, 0.0004623591983145734, 0.0006666351119589932, 0.9191838170116006, 0.0]\n"
     ]
    }
   ],
   "source": [
    "MSE  = []\n",
    "for x in all_predictions:\n",
    "   \n",
    "    height1= x[1]/np.sum(x[1])\n",
    "\n",
    "    for i in all_predictions:\n",
    "        height2 = i[1]/np.sum(i[1])\n",
    "\n",
    "        num = np.square(np.subtract(height1,height2)).mean()\n",
    "        MSE.append(num)\n",
    "print(MSE)"
   ]
  },
  {
   "cell_type": "code",
   "execution_count": 15,
   "id": "bc4d9f4d-be80-4914-beb0-c9ce26143c10",
   "metadata": {},
   "outputs": [],
   "source": [
    "names = ['cnr_mean', \"cnr_std\", \"cnr_median\",\"lidar_pbl\",\"wind_var\"]\n",
    "i = 0\n",
    "for name in names:\n",
    "    for n in names:\n",
    "        if name != n:\n",
    "            score = MSE[i]\n",
    "            if score!=0:\n",
    "                print(f\"{name} and {n} mean squared error is {score}\")\n",
    "                i+=1\n",
    "                "
   ]
  },
  {
   "cell_type": "code",
   "execution_count": null,
   "id": "9dd37a63-d9e5-400e-858e-d38ecd150c75",
   "metadata": {},
   "outputs": [],
   "source": [
    "MSE  = []\n",
    "for x in all_predictions:\n",
    "    for i in all_predictions:\n",
    "        if  x==i:\n",
    "            MSE.append(np.square(np.subtract(x,i)).mean())\n",
    "print(MSE)"
   ]
  }
 ],
 "metadata": {
  "kernelspec": {
   "display_name": "Python 3 (ipykernel)",
   "language": "python",
   "name": "python3"
  },
  "language_info": {
   "codemirror_mode": {
    "name": "ipython",
    "version": 3
   },
   "file_extension": ".py",
   "mimetype": "text/x-python",
   "name": "python",
   "nbconvert_exporter": "python",
   "pygments_lexer": "ipython3",
   "version": "3.9.12"
  }
 },
 "nbformat": 4,
 "nbformat_minor": 5
}
