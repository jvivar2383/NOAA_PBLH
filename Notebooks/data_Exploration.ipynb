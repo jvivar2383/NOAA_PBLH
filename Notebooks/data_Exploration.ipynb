{
 "cells": [
  {
   "cell_type": "code",
   "execution_count": 36,
   "id": "a00b90fa-79b3-4afd-882b-f1c65eae3493",
   "metadata": {},
   "outputs": [],
   "source": [
    "import tarfile\n",
    "import urllib\n",
    "import numpy as np\n",
    "import matplotlib.pyplot as plt\n",
    "import pandas as pd\n",
    "import seaborn as sns\n",
    "from kneed import KneeLocator\n",
    "\n",
    "from sklearn.cluster import KMeans\n",
    "from sklearn.decomposition import PCA\n",
    "from sklearn.metrics import silhouette_score, adjusted_rand_score\n",
    "from sklearn.pipeline import Pipeline\n",
    "from sklearn.preprocessing import LabelEncoder, MinMaxScaler\n",
    "from sklearn.preprocessing import StandardScaler\n",
    "\n",
    "import netCDF4 as nc\n",
    "import os\n",
    "import xarray as xr\n",
    "from source2 import *"
   ]
  },
  {
   "cell_type": "markdown",
   "id": "0447741f-2b2c-443e-9afe-f51274f61cb2",
   "metadata": {},
   "source": [
    "## Data\n",
    "loading the entired data for 3+ months in 2021. The data is resample by the hour per day and store in a single data frame"
   ]
  },
  {
   "cell_type": "code",
   "execution_count": 4,
   "id": "9edde298-4f64-43e0-9471-248d6af90248",
   "metadata": {},
   "outputs": [
    {
     "name": "stdout",
     "output_type": "stream",
     "text": [
      "                                5100       5000       4900       4800  \\\n",
      "2021-07-17 00:00:00+00:00 -32.995361 -32.936528 -32.939083 -32.864194   \n",
      "2021-07-17 00:30:00+00:00 -32.950597 -32.808056 -32.747778 -32.869667   \n",
      "2021-07-17 01:00:00+00:00 -32.934972 -32.858819 -32.924639 -32.885944   \n",
      "2021-07-17 01:30:00+00:00 -32.821958 -32.801569 -32.700819 -32.992014   \n",
      "2021-07-17 02:00:00+00:00 -32.970403 -32.850944 -32.807125 -32.968542   \n",
      "\n",
      "                                4700       4600       4500       4400  \\\n",
      "2021-07-17 00:00:00+00:00 -32.915903 -32.850806 -32.767403 -32.939292   \n",
      "2021-07-17 00:30:00+00:00 -32.776847 -32.826472 -32.673167 -32.475278   \n",
      "2021-07-17 01:00:00+00:00 -32.926597 -32.936097 -32.913792 -32.849167   \n",
      "2021-07-17 01:30:00+00:00 -32.817306 -32.926931 -32.854486 -32.870181   \n",
      "2021-07-17 02:00:00+00:00 -32.872375 -32.875569 -32.888625 -32.848111   \n",
      "\n",
      "                                4300       4200  ...      1100      1000  \\\n",
      "2021-07-17 00:00:00+00:00 -32.837986 -32.876083  ... -2.696542 -1.986556   \n",
      "2021-07-17 00:30:00+00:00 -32.693042 -32.617944  ... -6.614514 -9.302500   \n",
      "2021-07-17 01:00:00+00:00 -32.907528 -32.925903  ... -0.698444 -6.562333   \n",
      "2021-07-17 01:30:00+00:00 -32.900083 -32.784514  ...  2.909861 -7.887722   \n",
      "2021-07-17 02:00:00+00:00 -32.892222 -32.790764  ...  0.484111 -8.285097   \n",
      "\n",
      "                                 900        800        700        600  \\\n",
      "2021-07-17 00:00:00+00:00  -8.453667 -12.467125 -15.466736 -17.279000   \n",
      "2021-07-17 00:30:00+00:00 -12.316347 -14.031278 -15.905583 -17.334542   \n",
      "2021-07-17 01:00:00+00:00 -11.493486 -14.045708 -16.260208 -17.746167   \n",
      "2021-07-17 01:30:00+00:00 -12.258292 -14.591611 -16.477375 -17.782111   \n",
      "2021-07-17 02:00:00+00:00 -10.464375 -12.326639 -14.446778 -16.105292   \n",
      "\n",
      "                                 500        400        300        200  \n",
      "2021-07-17 00:00:00+00:00 -18.604819 -19.696222 -20.817000 -21.630986  \n",
      "2021-07-17 00:30:00+00:00 -18.473958 -19.548264 -20.660528 -21.497403  \n",
      "2021-07-17 01:00:00+00:00 -18.774708 -19.832347 -20.937264 -21.860806  \n",
      "2021-07-17 01:30:00+00:00 -18.764569 -19.729931 -20.738319 -21.553389  \n",
      "2021-07-17 02:00:00+00:00 -17.319861 -18.466847 -19.663306 -20.619597  \n",
      "\n",
      "[5 rows x 50 columns]\n"
     ]
    }
   ],
   "source": [
    "fixed_p='/Users/jenifervivar/Desktop/NERTO_2022/Lidar_Data/Vertical_data/'\n",
    "columns = (np.array([i for i in range(200, 5200, 100)]))\n",
    "#Montly data frames\n",
    "dfCnr = pd.DataFrame()\n",
    "dfBeta = pd.DataFrame()\n",
    "dfSpectral= pd.DataFrame()\n",
    "dfWind = pd.DataFrame()\n",
    "for folder in sorted(os.listdir(fixed_p))[1:-1]:\n",
    "    \n",
    "    date = folder[3:]\n",
    "\n",
    "    #collects and puts together the data for the whole day\n",
    "    path = fixed_p + folder + '/'\n",
    "    variables = VAREXTRACT(path)\n",
    "    variables.extract()\n",
    "    cnr_ = variables.cnr_day\n",
    "    time = pd.to_datetime(variables.time_day, unit = 's', utc = True)\n",
    "    wind = variables.ver_wind_speed \n",
    "    spect_width = variables.spectral_width_day\n",
    "    beta = variables.relat_beta_day \n",
    "    #daily dataframes\n",
    "    df_cnr =dataframe_set(cnr_, time, date).resample('30T').mean()\n",
    "\n",
    "\n",
    "    df_beta = dataframe_set(beta, time, date).resample('30T').mean()\n",
    "\n",
    "    df_spectralWidth = dataframe_set(spect_width, time, date).resample('30T').mean()\n",
    "\n",
    "\n",
    "    df_wind = dataframe_set(wind, time, date).resample('30T').mean()\n",
    "\n",
    "\n",
    "    #concatanating to all DF\n",
    "    dfCnr =pd.concat([dfCnr, df_cnr], axis =0)\n",
    "    dfBeta = pd.concat([dfBeta, df_beta], axis = 0)\n",
    "    dfSpectral = pd.concat([dfSpectral, df_spectralWidth], axis = 0)\n",
    "    dfWind = pd.concat([dfWind, df_wind], axis =0)\n",
    "\n",
    "   \n",
    "   \n",
    "print(dfCnr.head())    "
   ]
  },
  {
   "cell_type": "code",
   "execution_count": null,
   "id": "df5589e9-60aa-4197-94c9-935e03d14474",
   "metadata": {},
   "outputs": [],
   "source": [
    "for folder in sorted(os.listdir(fixed_p))[1:-1]:\n",
    "    df_atm= variables.atm_structures\n",
    "    date = folder[3:]"
   ]
  },
  {
   "cell_type": "markdown",
   "id": "bd032191-ab60-4354-a892-1f0eace3ee2c",
   "metadata": {},
   "source": [
    "## Feature reduction\n",
    "I would like to only get the most relevant features of each data frame. Each data frame is specific to wind, cnr, etc. The goal is to have all these important values combined in a data frame"
   ]
  },
  {
   "cell_type": "code",
   "execution_count": 72,
   "id": "506f3595-a0e2-480f-bc95-be85684b30c7",
   "metadata": {},
   "outputs": [],
   "source": [
    "def reducer(df, n_features = 2):\n",
    "    scaler = StandardScaler()\n",
    "    std_df = scaler.fit_transform(df)\n",
    "    pca = PCA(n_features)\n",
    "    x = pca.fit_transform(std_df)\n",
    "    var= pca.explained_variance_ratio_\n",
    "    return x, var"
   ]
  },
  {
   "cell_type": "code",
   "execution_count": 73,
   "id": "e19909c5-35f4-4037-8fee-49ff9a6cb8e5",
   "metadata": {},
   "outputs": [],
   "source": [
    "cnr,v = reducer(dfCnr)\n",
    "wind, v_1 = reducer(dfWind)\n",
    "beta, v_2 = reducer(dfBeta)\n",
    "espWidth, v_3 = reducer(dfSpectral)"
   ]
  },
  {
   "cell_type": "code",
   "execution_count": 75,
   "id": "10f8cf45-5163-40b6-9e33-8cda6260aa1d",
   "metadata": {},
   "outputs": [
    {
     "name": "stdout",
     "output_type": "stream",
     "text": [
      "[0.4342472  0.14335553] [0.42302862 0.13255782] [0.07341627 0.06189504] [0.53298992 0.18657582]\n"
     ]
    }
   ],
   "source": [
    "print(v, v_1, v_2, v_3)"
   ]
  },
  {
   "cell_type": "code",
   "execution_count": 76,
   "id": "513a7d26-4501-44bf-9727-36ef5201fd42",
   "metadata": {},
   "outputs": [],
   "source": [
    "#creating a new data frame\n",
    "data = {\"cnr_1\":cnr[:,0], \"cnr_2\": cnr[:,1], \"wind_1\":wind[:,0], \"wind_2\": wind[:,1], \"espcW_1\": espWidth[:,0], \"espcW_2\":espWidth[:,1]}\n",
    "all_df = pd.DataFrame(data, index = dfCnr.index)"
   ]
  },
  {
   "cell_type": "code",
   "execution_count": 77,
   "id": "55d69a41-ea9f-4cbb-9205-965abc23187b",
   "metadata": {},
   "outputs": [
    {
     "data": {
      "text/html": [
       "<div>\n",
       "<style scoped>\n",
       "    .dataframe tbody tr th:only-of-type {\n",
       "        vertical-align: middle;\n",
       "    }\n",
       "\n",
       "    .dataframe tbody tr th {\n",
       "        vertical-align: top;\n",
       "    }\n",
       "\n",
       "    .dataframe thead th {\n",
       "        text-align: right;\n",
       "    }\n",
       "</style>\n",
       "<table border=\"1\" class=\"dataframe\">\n",
       "  <thead>\n",
       "    <tr style=\"text-align: right;\">\n",
       "      <th></th>\n",
       "      <th>cnr_1</th>\n",
       "      <th>cnr_2</th>\n",
       "      <th>wind_1</th>\n",
       "      <th>wind_2</th>\n",
       "      <th>espcW_1</th>\n",
       "      <th>espcW_2</th>\n",
       "    </tr>\n",
       "  </thead>\n",
       "  <tbody>\n",
       "    <tr>\n",
       "      <th>2021-07-17 00:00:00+00:00</th>\n",
       "      <td>-1.458422</td>\n",
       "      <td>-2.862206</td>\n",
       "      <td>3.525198</td>\n",
       "      <td>-1.286315</td>\n",
       "      <td>3.587168</td>\n",
       "      <td>-0.723631</td>\n",
       "    </tr>\n",
       "    <tr>\n",
       "      <th>2021-07-17 00:30:00+00:00</th>\n",
       "      <td>-1.943114</td>\n",
       "      <td>-1.684626</td>\n",
       "      <td>3.818009</td>\n",
       "      <td>-0.788940</td>\n",
       "      <td>3.620742</td>\n",
       "      <td>-0.086824</td>\n",
       "    </tr>\n",
       "    <tr>\n",
       "      <th>2021-07-17 01:00:00+00:00</th>\n",
       "      <td>-2.306523</td>\n",
       "      <td>-1.898777</td>\n",
       "      <td>5.398853</td>\n",
       "      <td>-2.176903</td>\n",
       "      <td>4.321054</td>\n",
       "      <td>0.720427</td>\n",
       "    </tr>\n",
       "    <tr>\n",
       "      <th>2021-07-17 01:30:00+00:00</th>\n",
       "      <td>-2.477225</td>\n",
       "      <td>-1.476225</td>\n",
       "      <td>3.723760</td>\n",
       "      <td>-1.663105</td>\n",
       "      <td>4.449993</td>\n",
       "      <td>1.148632</td>\n",
       "    </tr>\n",
       "    <tr>\n",
       "      <th>2021-07-17 02:00:00+00:00</th>\n",
       "      <td>-2.139009</td>\n",
       "      <td>-2.038531</td>\n",
       "      <td>4.629435</td>\n",
       "      <td>-1.282560</td>\n",
       "      <td>3.879742</td>\n",
       "      <td>0.090045</td>\n",
       "    </tr>\n",
       "    <tr>\n",
       "      <th>...</th>\n",
       "      <td>...</td>\n",
       "      <td>...</td>\n",
       "      <td>...</td>\n",
       "      <td>...</td>\n",
       "      <td>...</td>\n",
       "      <td>...</td>\n",
       "    </tr>\n",
       "    <tr>\n",
       "      <th>2021-10-13 19:00:00+00:00</th>\n",
       "      <td>-5.218520</td>\n",
       "      <td>1.632521</td>\n",
       "      <td>7.346085</td>\n",
       "      <td>1.877037</td>\n",
       "      <td>5.606728</td>\n",
       "      <td>1.914751</td>\n",
       "    </tr>\n",
       "    <tr>\n",
       "      <th>2021-10-13 19:30:00+00:00</th>\n",
       "      <td>-4.956671</td>\n",
       "      <td>1.317448</td>\n",
       "      <td>3.258682</td>\n",
       "      <td>-0.395840</td>\n",
       "      <td>4.505535</td>\n",
       "      <td>1.293525</td>\n",
       "    </tr>\n",
       "    <tr>\n",
       "      <th>2021-10-13 20:00:00+00:00</th>\n",
       "      <td>-3.355486</td>\n",
       "      <td>-0.403054</td>\n",
       "      <td>1.275363</td>\n",
       "      <td>-4.160520</td>\n",
       "      <td>0.899788</td>\n",
       "      <td>-2.114303</td>\n",
       "    </tr>\n",
       "    <tr>\n",
       "      <th>2021-10-13 20:30:00+00:00</th>\n",
       "      <td>-3.519191</td>\n",
       "      <td>-0.030294</td>\n",
       "      <td>0.318713</td>\n",
       "      <td>-3.181262</td>\n",
       "      <td>0.969858</td>\n",
       "      <td>-2.699205</td>\n",
       "    </tr>\n",
       "    <tr>\n",
       "      <th>2021-10-13 21:00:00+00:00</th>\n",
       "      <td>-3.605906</td>\n",
       "      <td>0.163931</td>\n",
       "      <td>-0.919045</td>\n",
       "      <td>-2.817778</td>\n",
       "      <td>1.062853</td>\n",
       "      <td>-2.922258</td>\n",
       "    </tr>\n",
       "  </tbody>\n",
       "</table>\n",
       "<p>4140 rows × 6 columns</p>\n",
       "</div>"
      ],
      "text/plain": [
       "                              cnr_1     cnr_2    wind_1    wind_2   espcW_1  \\\n",
       "2021-07-17 00:00:00+00:00 -1.458422 -2.862206  3.525198 -1.286315  3.587168   \n",
       "2021-07-17 00:30:00+00:00 -1.943114 -1.684626  3.818009 -0.788940  3.620742   \n",
       "2021-07-17 01:00:00+00:00 -2.306523 -1.898777  5.398853 -2.176903  4.321054   \n",
       "2021-07-17 01:30:00+00:00 -2.477225 -1.476225  3.723760 -1.663105  4.449993   \n",
       "2021-07-17 02:00:00+00:00 -2.139009 -2.038531  4.629435 -1.282560  3.879742   \n",
       "...                             ...       ...       ...       ...       ...   \n",
       "2021-10-13 19:00:00+00:00 -5.218520  1.632521  7.346085  1.877037  5.606728   \n",
       "2021-10-13 19:30:00+00:00 -4.956671  1.317448  3.258682 -0.395840  4.505535   \n",
       "2021-10-13 20:00:00+00:00 -3.355486 -0.403054  1.275363 -4.160520  0.899788   \n",
       "2021-10-13 20:30:00+00:00 -3.519191 -0.030294  0.318713 -3.181262  0.969858   \n",
       "2021-10-13 21:00:00+00:00 -3.605906  0.163931 -0.919045 -2.817778  1.062853   \n",
       "\n",
       "                            espcW_2  \n",
       "2021-07-17 00:00:00+00:00 -0.723631  \n",
       "2021-07-17 00:30:00+00:00 -0.086824  \n",
       "2021-07-17 01:00:00+00:00  0.720427  \n",
       "2021-07-17 01:30:00+00:00  1.148632  \n",
       "2021-07-17 02:00:00+00:00  0.090045  \n",
       "...                             ...  \n",
       "2021-10-13 19:00:00+00:00  1.914751  \n",
       "2021-10-13 19:30:00+00:00  1.293525  \n",
       "2021-10-13 20:00:00+00:00 -2.114303  \n",
       "2021-10-13 20:30:00+00:00 -2.699205  \n",
       "2021-10-13 21:00:00+00:00 -2.922258  \n",
       "\n",
       "[4140 rows x 6 columns]"
      ]
     },
     "execution_count": 77,
     "metadata": {},
     "output_type": "execute_result"
    }
   ],
   "source": [
    "all_df.head(-5)"
   ]
  },
  {
   "cell_type": "code",
   "execution_count": null,
   "id": "e2d18b72-e3d6-4c39-9b9f-130f76a284c5",
   "metadata": {},
   "outputs": [],
   "source": [
    "all_x = "
   ]
  },
  {
   "cell_type": "code",
   "execution_count": null,
   "id": "f62413c0-5693-4c5b-9522-c335648569b1",
   "metadata": {},
   "outputs": [],
   "source": []
  },
  {
   "cell_type": "code",
   "execution_count": null,
   "id": "b35c8450-43d7-40f3-8b3d-8d85dea26860",
   "metadata": {},
   "outputs": [],
   "source": []
  },
  {
   "cell_type": "code",
   "execution_count": null,
   "id": "fd713dcd-7bdc-44e3-8099-fe34abde210c",
   "metadata": {},
   "outputs": [],
   "source": []
  },
  {
   "cell_type": "code",
   "execution_count": 60,
   "id": "f063b8a3-4456-440e-9d99-5f1a4fcdb2ea",
   "metadata": {},
   "outputs": [],
   "source": [
    "std_cnr = scaler.fit_transform(dfCnr)\n",
    "\n",
    "pca = PCA(3)\n",
    "cnr_ = pca.fit_transform(std_cnr)"
   ]
  },
  {
   "cell_type": "code",
   "execution_count": 66,
   "id": "ffc14d30-d2c5-4862-8dce-876db0412f34",
   "metadata": {},
   "outputs": [
    {
     "data": {
      "text/plain": [
       "array([299.99621996, 172.3671487 , 127.82005913])"
      ]
     },
     "execution_count": 66,
     "metadata": {},
     "output_type": "execute_result"
    }
   ],
   "source": [
    "pca.singular_values_"
   ]
  },
  {
   "cell_type": "code",
   "execution_count": 24,
   "id": "d1487361-6889-4ac4-9b73-911aa336adf3",
   "metadata": {},
   "outputs": [
    {
     "name": "stdout",
     "output_type": "stream",
     "text": [
      "[[-1.00428912  0.0349553  -0.16032411 ... -0.0600047  -0.09583175\n",
      "  -0.2036817 ]\n",
      " [-0.80180854  0.4949375  -0.7870842  ... -0.21312412 -0.01197973\n",
      "   0.50377835]\n",
      " [-1.49483692 -0.78052293 -0.98591753 ...  0.63390355  0.59558438\n",
      "   0.22618039]\n",
      " ...\n",
      " [-0.70037707 -0.24236373 -1.05122028 ...  0.11435748 -0.00303056\n",
      "  -0.11069453]\n",
      " [-0.12566874 -0.7250921  -1.07547373 ...  0.24176691  0.27826074\n",
      "   0.19249524]\n",
      " [ 0.42322964 -0.75736039 -0.19431119 ...  0.19706663  0.08296443\n",
      "  -0.01377251]]\n",
      "[[ 3.52519793 -1.28631532 -2.67869421]\n",
      " [ 3.81800945 -0.78893969 -3.01149553]\n",
      " [ 5.39885262 -2.17690257 -3.30048297]\n",
      " ...\n",
      " [ 1.21402757 -2.97761377 -0.61014663]\n",
      " [ 3.74014509 -0.27815347 -0.96144351]\n",
      " [ 1.05896727  2.52959759  0.04935323]] <class 'numpy.ndarray'>\n"
     ]
    }
   ],
   "source": [
    "#standarizing the data and reducing the amount of inputs I need\n",
    "scaler = StandardScaler()\n",
    "std_df = scaler.fit_transform(dfWind)\n",
    "print(std_df)\n",
    "pca = PCA(3)\n",
    "w = pca.fit_transform(std_df)\n",
    "print(x, type(x))"
   ]
  },
  {
   "cell_type": "code",
   "execution_count": 67,
   "id": "97acbfea-d6a3-4bc5-a0f8-fc2695528602",
   "metadata": {},
   "outputs": [
    {
     "data": {
      "text/plain": [
       "array([[ 0.07359376,  0.08592099,  0.10112059,  0.11197923,  0.11445183,\n",
       "         0.11461606,  0.12056298,  0.13109987,  0.13839153,  0.14563943,\n",
       "         0.15102525,  0.15687975,  0.16239745,  0.16320277,  0.16243734,\n",
       "         0.16497928,  0.16809322,  0.16918528,  0.16995636,  0.1736489 ,\n",
       "         0.17651963,  0.17794425,  0.17954501,  0.18020645,  0.17801706,\n",
       "         0.17773405,  0.17356786,  0.16523137,  0.16291373,  0.16494741,\n",
       "         0.16497168,  0.165476  ,  0.16445651,  0.15901889,  0.15517098,\n",
       "         0.15455714,  0.15427565,  0.15106905,  0.14451842,  0.13645326,\n",
       "         0.12633215,  0.11087821,  0.09237342,  0.07479728,  0.05076693,\n",
       "         0.02280779, -0.00114868, -0.03654947, -0.05868712, -0.0537661 ],\n",
       "       [ 0.12796883,  0.15297869,  0.18164904,  0.19901989,  0.20494655,\n",
       "         0.20820987,  0.20867317,  0.20935493,  0.19818429,  0.19405673,\n",
       "         0.18808992,  0.17677619,  0.1635277 ,  0.14660002,  0.12840446,\n",
       "         0.11387687,  0.09617713,  0.07679273,  0.05864417,  0.04427017,\n",
       "         0.02855333,  0.01205813, -0.00174735, -0.01994572, -0.03694449,\n",
       "        -0.0511838 , -0.06527778, -0.07968974, -0.09432451, -0.10790141,\n",
       "        -0.11819194, -0.12926153, -0.14288422, -0.15271092, -0.16163791,\n",
       "        -0.16995493, -0.17781826, -0.1831929 , -0.18528642, -0.18776663,\n",
       "        -0.1872083 , -0.18023997, -0.16603679, -0.14888073, -0.11675223,\n",
       "        -0.06785549, -0.01251849,  0.07131232,  0.12654294,  0.12507076],\n",
       "       [ 0.14109451,  0.16316433,  0.17985035,  0.19108673,  0.19130359,\n",
       "         0.18954592,  0.17115562,  0.14852105,  0.11863413,  0.09405893,\n",
       "         0.06323433,  0.03182786,  0.00080236, -0.030884  , -0.060615  ,\n",
       "        -0.08661762, -0.11079321, -0.13047033, -0.14376169, -0.15232761,\n",
       "        -0.15763202, -0.15949385, -0.15514645, -0.15161231, -0.14471724,\n",
       "        -0.13782747, -0.13069332, -0.12101796, -0.10859418, -0.09181375,\n",
       "        -0.07682857, -0.06165824, -0.03887253, -0.01157829,  0.0136477 ,\n",
       "         0.03370576,  0.05514108,  0.08388594,  0.11550867,  0.15006358,\n",
       "         0.18541484,  0.22366425,  0.25167232,  0.26703109,  0.25072269,\n",
       "         0.19436929,  0.10442337, -0.05281259, -0.17620915, -0.18768189]])"
      ]
     },
     "execution_count": 67,
     "metadata": {},
     "output_type": "execute_result"
    }
   ],
   "source": [
    "#verifying % of data explained by variables\n",
    "pca.components_"
   ]
  },
  {
   "cell_type": "code",
   "execution_count": 33,
   "id": "553cbea7-427d-497a-b86f-798bdc6d01f3",
   "metadata": {},
   "outputs": [],
   "source": [
    "sse = []\n",
    "for k in range(2, 11):\n",
    "    kmeans = KMeans(k)\n",
    "    kmeans.fit(x)\n",
    "    sse.append(kmeans.inertia_)"
   ]
  },
  {
   "cell_type": "code",
   "execution_count": 35,
   "id": "e36504fd-f02a-439f-9808-60be958e2690",
   "metadata": {},
   "outputs": [
    {
     "data": {
      "image/png": "[encoded data removed]",
      "text/plain": [
       "<Figure size 432x288 with 1 Axes>"
      ]
     },
     "metadata": {},
     "output_type": "display_data"
    }
   ],
   "source": [
    "#plotting the sum of squares distances to get ideal k value\n",
    "plt.style.use(\"fivethirtyeight\")\n",
    "plt.plot(range(2, 11), sse)\n",
    "plt.xticks(range(2, 11))\n",
    "plt.xlabel(\"Number of Clusters\")\n",
    "plt.ylabel(\"SSE\")\n",
    "plt.show()"
   ]
  },
  {
   "cell_type": "code",
   "execution_count": 37,
   "id": "a24df22f-8abe-4abf-9ae9-dce5b7478f6e",
   "metadata": {},
   "outputs": [
    {
     "data": {
      "text/plain": [
       "4"
      ]
     },
     "execution_count": 37,
     "metadata": {},
     "output_type": "execute_result"
    }
   ],
   "source": [
    "kl = KneeLocator(\n",
    "range(2, 11), sse, curve=\"convex\", direction=\"decreasing\")\n",
    "\n",
    "kl.elbow"
   ]
  },
  {
   "cell_type": "code",
   "execution_count": 48,
   "id": "f508a112-892b-4080-a046-c4847a5b2056",
   "metadata": {},
   "outputs": [
    {
     "data": {
      "text/plain": [
       "array([1, 1, 1, ..., 2, 1, 1], dtype=int32)"
      ]
     },
     "execution_count": 48,
     "metadata": {},
     "output_type": "execute_result"
    }
   ],
   "source": [
    "kmeans = KMeans(5)\n",
    "identified_custers = kmeans.fit_predict(x)\n",
    "identified_custers"
   ]
  },
  {
   "cell_type": "code",
   "execution_count": 41,
   "id": "aea6741b-d332-419c-8b71-55e9d31e60ad",
   "metadata": {},
   "outputs": [
    {
     "data": {
      "text/plain": [
       "array([3.52519793, 3.81800945, 5.39885262, ..., 1.21402757, 3.74014509,\n",
       "       1.05896727])"
      ]
     },
     "execution_count": 41,
     "metadata": {},
     "output_type": "execute_result"
    }
   ],
   "source": [
    "x[:,0]"
   ]
  },
  {
   "cell_type": "code",
   "execution_count": 51,
   "id": "9fbf75ba-3a05-4c55-ae6e-4e227bffa2d5",
   "metadata": {},
   "outputs": [
    {
     "data": {
      "image/png": "[encoded data removed]",
      "text/plain": [
       "<Figure size 432x288 with 1 Axes>"
      ]
     },
     "metadata": {},
     "output_type": "display_data"
    }
   ],
   "source": [
    "plt.scatter(x[:,0],x[:,1],c=identified_custers,cmap='rainbow')\n",
    "plt.scatter(kmeans.cluster_centers_[:,0], kmeans.cluster_centers_[:,1], marker = '*', c  = 'black')\n",
    "plt.show()"
   ]
  },
  {
   "cell_type": "code",
   "execution_count": null,
   "id": "0acffdce-400a-4d80-92d5-250e64c6eec5",
   "metadata": {},
   "outputs": [],
   "source": []
  },
  {
   "cell_type": "markdown",
   "id": "22e950b0-1cc4-4a9f-a34a-c0e62dc63365",
   "metadata": {},
   "source": [
    "## Kmeans pipeline"
   ]
  },
  {
   "cell_type": "code",
   "execution_count": 9,
   "id": "051de3ff-1e7f-4e4a-90ef-beb6630d7245",
   "metadata": {},
   "outputs": [],
   "source": [
    "preprocessor = Pipeline([(\"scaler\",  StandardScaler()), (\"pca\", PCA(n_components=2, random_state=42)),])"
   ]
  },
  {
   "cell_type": "code",
   "execution_count": 10,
   "id": "fd75cc58-3bed-434c-8753-bc8a04cf0fee",
   "metadata": {},
   "outputs": [],
   "source": [
    "clusterer = Pipeline([(\"kmeans\",KMeans(n_clusters=10,init=\"k-means++\",n_init=50,max_iter=500,random_state=42,),),])"
   ]
  },
  {
   "cell_type": "code",
   "execution_count": 11,
   "id": "378b9e9f-a2f1-4197-8ad8-874b4add737c",
   "metadata": {},
   "outputs": [],
   "source": [
    "pipe = Pipeline([(\"preprocessor\", preprocessor),(\"clusterer\", clusterer)])"
   ]
  }
 ],
 "metadata": {
  "kernelspec": {
   "display_name": "Python 3 (ipykernel)",
   "language": "python",
   "name": "python3"
  },
  "language_info": {
   "codemirror_mode": {
    "name": "ipython",
    "version": 3
   },
   "file_extension": ".py",
   "mimetype": "text/x-python",
   "name": "python",
   "nbconvert_exporter": "python",
   "pygments_lexer": "ipython3",
   "version": "3.9.12"
  }
 },
 "nbformat": 4,
 "nbformat_minor": 5
}
