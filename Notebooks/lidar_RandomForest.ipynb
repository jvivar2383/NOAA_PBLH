{
 "cells": [
  {
   "cell_type": "code",
   "execution_count": 6,
   "id": "a4070855-b850-4c45-ab1b-0472777013ee",
   "metadata": {},
   "outputs": [],
   "source": [
    "from sklearn import datasets\n",
    "from sklearn.neighbors import KNeighborsClassifier\n",
    "from sklearn.model_selection import train_test_split\n",
    "import seaborn as sns\n",
    "import pandas as pd\n",
    "from sklearn.preprocessing import StandardScaler\n",
    "import numpy as np\n",
    "import matplotlib.pyplot as plt\n",
    "from source2 import *\n",
    "#from sklearn.metrics import mean_squared_error\n",
    "from math import sqrt\n",
    "from imblearn.over_sampling import SMOTE\n",
    "from sklearn.metrics import accuracy_score,confusion_matrix,classification_report, mean_squared_error,multilabel_confusion_matrix"
   ]
  },
  {
   "cell_type": "code",
   "execution_count": 2,
   "id": "1d8cdcdb-8478-47c6-9fc0-a76652e45c05",
   "metadata": {},
   "outputs": [],
   "source": [
    "path0 = \"/Users/jenifervivar/Desktop/NERTO_2022/LIDAR_JUN17-30_2021/FXD20210717/\"\n",
    "variables = VAREXTRACT(path0)\n",
    "variables.extract()\n",
    "cnr_17 = variables.cnr_day\n",
    "time_17 = pd.to_datetime(variables.time_day, unit = 's', utc = True)\n",
    "pbl_17 = variables.atm_structures\n",
    "windsp_17 = variables.ver_wind_speed\n",
    "relat_beta = variables.relat_beta_day\n",
    "spectral_width = variables.spectral_width_day\n",
    "atm_struct = variables.atm_structures"
   ]
  },
  {
   "cell_type": "code",
   "execution_count": 3,
   "id": "62022bda-6771-4042-a2b1-b142161b283e",
   "metadata": {},
   "outputs": [
    {
     "data": {
      "text/html": [
       "<div>\n",
       "<style scoped>\n",
       "    .dataframe tbody tr th:only-of-type {\n",
       "        vertical-align: middle;\n",
       "    }\n",
       "\n",
       "    .dataframe tbody tr th {\n",
       "        vertical-align: top;\n",
       "    }\n",
       "\n",
       "    .dataframe thead th {\n",
       "        text-align: right;\n",
       "    }\n",
       "</style>\n",
       "<table border=\"1\" class=\"dataframe\">\n",
       "  <thead>\n",
       "    <tr style=\"text-align: right;\">\n",
       "      <th></th>\n",
       "      <th>CNR</th>\n",
       "      <th>Vertical_wind</th>\n",
       "      <th>Relative_beta</th>\n",
       "      <th>spectral_width</th>\n",
       "      <th>Lidar_flags</th>\n",
       "    </tr>\n",
       "  </thead>\n",
       "  <tbody>\n",
       "    <tr>\n",
       "      <th>0</th>\n",
       "      <td>-15.62</td>\n",
       "      <td>0.10</td>\n",
       "      <td>2.490000e-07</td>\n",
       "      <td>0.57</td>\n",
       "      <td>30.0</td>\n",
       "    </tr>\n",
       "    <tr>\n",
       "      <th>1</th>\n",
       "      <td>-14.61</td>\n",
       "      <td>-0.62</td>\n",
       "      <td>2.950000e-07</td>\n",
       "      <td>1.10</td>\n",
       "      <td>30.0</td>\n",
       "    </tr>\n",
       "    <tr>\n",
       "      <th>2</th>\n",
       "      <td>-13.37</td>\n",
       "      <td>-0.68</td>\n",
       "      <td>3.770000e-07</td>\n",
       "      <td>0.53</td>\n",
       "      <td>30.0</td>\n",
       "    </tr>\n",
       "    <tr>\n",
       "      <th>3</th>\n",
       "      <td>-11.88</td>\n",
       "      <td>-0.16</td>\n",
       "      <td>5.260000e-07</td>\n",
       "      <td>0.57</td>\n",
       "      <td>30.0</td>\n",
       "    </tr>\n",
       "    <tr>\n",
       "      <th>4</th>\n",
       "      <td>-10.96</td>\n",
       "      <td>-0.17</td>\n",
       "      <td>6.620000e-07</td>\n",
       "      <td>0.50</td>\n",
       "      <td>20.0</td>\n",
       "    </tr>\n",
       "  </tbody>\n",
       "</table>\n",
       "</div>"
      ],
      "text/plain": [
       "     CNR  Vertical_wind  Relative_beta  spectral_width  Lidar_flags\n",
       "0 -15.62           0.10   2.490000e-07            0.57         30.0\n",
       "1 -14.61          -0.62   2.950000e-07            1.10         30.0\n",
       "2 -13.37          -0.68   3.770000e-07            0.53         30.0\n",
       "3 -11.88          -0.16   5.260000e-07            0.57         30.0\n",
       "4 -10.96          -0.17   6.620000e-07            0.50         20.0"
      ]
     },
     "execution_count": 3,
     "metadata": {},
     "output_type": "execute_result"
    }
   ],
   "source": [
    "data ={\"CNR\":cnr_17, \"Vertical_wind\":windsp_17, \"Relative_beta\": relat_beta, \"spectral_width\":spectral_width,\n",
    "       \"Lidar_flags\":atm_struct}\n",
    "df = pd.DataFrame(data)\n",
    "df.head()"
   ]
  },
  {
   "cell_type": "code",
   "execution_count": 4,
   "id": "6734fe7f-b282-400d-af22-5e2b0bd1516b",
   "metadata": {},
   "outputs": [
    {
     "data": {
      "text/html": [
       "<div>\n",
       "<style scoped>\n",
       "    .dataframe tbody tr th:only-of-type {\n",
       "        vertical-align: middle;\n",
       "    }\n",
       "\n",
       "    .dataframe tbody tr th {\n",
       "        vertical-align: top;\n",
       "    }\n",
       "\n",
       "    .dataframe thead th {\n",
       "        text-align: right;\n",
       "    }\n",
       "</style>\n",
       "<table border=\"1\" class=\"dataframe\">\n",
       "  <thead>\n",
       "    <tr style=\"text-align: right;\">\n",
       "      <th></th>\n",
       "      <th>CNR</th>\n",
       "      <th>Vertical_wind</th>\n",
       "      <th>Relative_beta</th>\n",
       "      <th>spectral_width</th>\n",
       "      <th>Lidar_flags</th>\n",
       "    </tr>\n",
       "  </thead>\n",
       "  <tbody>\n",
       "    <tr>\n",
       "      <th>0</th>\n",
       "      <td>-15.62</td>\n",
       "      <td>0.10</td>\n",
       "      <td>2.490000e-07</td>\n",
       "      <td>0.57</td>\n",
       "      <td>30.0</td>\n",
       "    </tr>\n",
       "    <tr>\n",
       "      <th>1</th>\n",
       "      <td>-14.61</td>\n",
       "      <td>-0.62</td>\n",
       "      <td>2.950000e-07</td>\n",
       "      <td>1.10</td>\n",
       "      <td>30.0</td>\n",
       "    </tr>\n",
       "    <tr>\n",
       "      <th>2</th>\n",
       "      <td>-13.37</td>\n",
       "      <td>-0.68</td>\n",
       "      <td>3.770000e-07</td>\n",
       "      <td>0.53</td>\n",
       "      <td>30.0</td>\n",
       "    </tr>\n",
       "    <tr>\n",
       "      <th>3</th>\n",
       "      <td>-11.88</td>\n",
       "      <td>-0.16</td>\n",
       "      <td>5.260000e-07</td>\n",
       "      <td>0.57</td>\n",
       "      <td>30.0</td>\n",
       "    </tr>\n",
       "    <tr>\n",
       "      <th>4</th>\n",
       "      <td>-10.96</td>\n",
       "      <td>-0.17</td>\n",
       "      <td>6.620000e-07</td>\n",
       "      <td>0.50</td>\n",
       "      <td>20.0</td>\n",
       "    </tr>\n",
       "  </tbody>\n",
       "</table>\n",
       "</div>"
      ],
      "text/plain": [
       "     CNR  Vertical_wind  Relative_beta  spectral_width  Lidar_flags\n",
       "0 -15.62           0.10   2.490000e-07            0.57         30.0\n",
       "1 -14.61          -0.62   2.950000e-07            1.10         30.0\n",
       "2 -13.37          -0.68   3.770000e-07            0.53         30.0\n",
       "3 -11.88          -0.16   5.260000e-07            0.57         30.0\n",
       "4 -10.96          -0.17   6.620000e-07            0.50         20.0"
      ]
     },
     "execution_count": 4,
     "metadata": {},
     "output_type": "execute_result"
    }
   ],
   "source": [
    "df2 = df[(df.Lidar_flags<=30) & (df.Lidar_flags != 0) ]\n",
    "df2.head()"
   ]
  },
  {
   "cell_type": "code",
   "execution_count": 7,
   "id": "7426e2ba-8bd8-47dc-be48-04a2557097d3",
   "metadata": {},
   "outputs": [],
   "source": [
    "X = df2[df.columns[:-1].values]\n",
    "y = df2[\"Lidar_flags\"]\n",
    "\n",
    "\n",
    "\n",
    "\n",
    "X_resampled, y_resampled = SMOTE().fit_resample(X,y)\n",
    "X_train, X_test, y_train, y_test = train_test_split(X_resampled, y_resampled, test_size=0.3, random_state=42)\n",
    "\n",
    "sc = StandardScaler()\n",
    "sc.fit(X_resampled)\n",
    "\n",
    "#standarizing the data\n",
    "X_train_std = sc.transform(X_train)\n",
    "X_test_std = sc.transform(X_test)\n",
    "\n"
   ]
  },
  {
   "cell_type": "code",
   "execution_count": 8,
   "id": "0364282b-8426-4583-b1f6-8ae95e98c2c3",
   "metadata": {},
   "outputs": [],
   "source": [
    "from sklearn.ensemble import RandomForestClassifier\n"
   ]
  },
  {
   "cell_type": "code",
   "execution_count": 11,
   "id": "360e3a76-1c09-40aa-8964-2d8c0195247a",
   "metadata": {},
   "outputs": [
    {
     "data": {
      "text/plain": [
       "RandomForestClassifier(n_estimators=20)"
      ]
     },
     "execution_count": 11,
     "metadata": {},
     "output_type": "execute_result"
    }
   ],
   "source": [
    "#selecting 20 decision trees\n",
    "rf = RandomForestClassifier(n_estimators = 20)\n",
    "rf.fit(X_train_std, y_train)"
   ]
  },
  {
   "cell_type": "code",
   "execution_count": 12,
   "id": "3586b167-53e6-4513-b17b-3ed3ac530731",
   "metadata": {},
   "outputs": [],
   "source": [
    "\n",
    "def confusion_plot():\n",
    "    cf_matrix = confusion_matrix(y_test, y_pred)\n",
    "\n",
    "    ax = sns.heatmap(cf_matrix, annot=True, fmt = 'd', cmap='Blues')\n",
    "\n",
    "    ax.set_title('Confusion Matrix for Logistic Regression classifier\\n\\n');\n",
    "    ax.set_xlabel('\\nPredicted Values')\n",
    "    ax.set_ylabel('Actual Values ');\n",
    "\n",
    "## Ticket labels - List must be in alphabetical order\n",
    "    ax.xaxis.set_ticklabels(['Residual layer (20)','Mixing H (30)'])\n",
    "    ax.yaxis.set_ticklabels(['Residual layer (20)','Mixing H (30)'])\n",
    "\n",
    "## Display the visualization of the Confusion Matrix.\n",
    "    plt.show()"
   ]
  },
  {
   "cell_type": "code",
   "execution_count": null,
   "id": "d72d8079-2dec-40a6-b87d-1ff2555d563d",
   "metadata": {},
   "outputs": [],
   "source": []
  },
  {
   "cell_type": "code",
   "execution_count": null,
   "id": "18f31235-f47b-4585-8eea-2f2b404975b2",
   "metadata": {},
   "outputs": [],
   "source": []
  }
 ],
 "metadata": {
  "kernelspec": {
   "display_name": "Python 3 (ipykernel)",
   "language": "python",
   "name": "python3"
  },
  "language_info": {
   "codemirror_mode": {
    "name": "ipython",
    "version": 3
   },
   "file_extension": ".py",
   "mimetype": "text/x-python",
   "name": "python",
   "nbconvert_exporter": "python",
   "pygments_lexer": "ipython3",
   "version": "3.9.12"
  }
 },
 "nbformat": 4,
 "nbformat_minor": 5
}
